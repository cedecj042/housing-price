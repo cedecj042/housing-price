{
 "cells": [
  {
   "cell_type": "code",
   "execution_count": 1,
   "id": "d6d8cf70",
   "metadata": {},
   "outputs": [],
   "source": [
    "import os \n",
    "import random\n",
    "import csv\n",
    "import pandas as pd\n",
    "import numpy as np"
   ]
  },
  {
   "cell_type": "code",
   "execution_count": 2,
   "id": "63f3d089",
   "metadata": {},
   "outputs": [],
   "source": [
    "def read_csv(file_path):\n",
    "    with open(file_path, mode='r', encoding='utf-8') as file:\n",
    "        reader = csv.reader(file)\n",
    "        data = list(reader)\n",
    "    return data"
   ]
  },
  {
   "cell_type": "code",
   "execution_count": 3,
   "id": "ee8d8934",
   "metadata": {},
   "outputs": [
    {
     "name": "stdout",
     "output_type": "stream",
     "text": [
      "      price  area  bedrooms  bathrooms  stories mainroad guestroom basement  \\\n",
      "0  13300000  7420         4          2        3      yes        no       no   \n",
      "1  12250000  8960         4          4        4      yes        no       no   \n",
      "2  12250000  9960         3          2        2      yes        no      yes   \n",
      "3  12215000  7500         4          2        2      yes        no      yes   \n",
      "4  11410000  7420         4          1        2      yes       yes      yes   \n",
      "\n",
      "  hotwaterheating airconditioning  parking prefarea furnishingstatus  \n",
      "0              no             yes        2      yes        furnished  \n",
      "1              no             yes        3       no        furnished  \n",
      "2              no              no        2      yes   semi-furnished  \n",
      "3              no             yes        3      yes        furnished  \n",
      "4              no             yes        2       no        furnished  \n"
     ]
    }
   ],
   "source": [
    "data = pd.read_csv('Housing.csv')\n",
    "print(data.head())"
   ]
  },
  {
   "cell_type": "markdown",
   "id": "aea3ed62",
   "metadata": {},
   "source": [
    "## Feature handling\n",
    "\n",
    "Some feature like the furnishing status has 3 types of status (furnished,semi-furnished,unfurnished). \n",
    "What we can do is make it into a binary column by using one-hot encoding. This means, we set the furnished as a base class, this means we drop the furnished, and set the semi-furnished and unfurnished as an individual columns included in the features. If it is furnished, semi-furnished and unfurnished is 0."
   ]
  },
  {
   "cell_type": "code",
   "execution_count": 4,
   "id": "9575769a",
   "metadata": {},
   "outputs": [
    {
     "name": "stdout",
     "output_type": "stream",
     "text": [
      "   area  bedrooms  bathrooms  stories  parking  mainroad_yes  guestroom_yes  \\\n",
      "0  7420         4          2        3        2          True          False   \n",
      "1  8960         4          4        4        3          True          False   \n",
      "2  9960         3          2        2        2          True          False   \n",
      "3  7500         4          2        2        3          True          False   \n",
      "4  7420         4          1        2        2          True           True   \n",
      "\n",
      "   basement_yes  hotwaterheating_yes  airconditioning_yes  prefarea_yes  \\\n",
      "0         False                False                 True          True   \n",
      "1         False                False                 True         False   \n",
      "2          True                False                False          True   \n",
      "3          True                False                 True          True   \n",
      "4          True                False                 True         False   \n",
      "\n",
      "   furnishingstatus_semi-furnished  furnishingstatus_unfurnished  \n",
      "0                            False                         False  \n",
      "1                            False                         False  \n",
      "2                             True                         False  \n",
      "3                            False                         False  \n",
      "4                            False                         False  \n"
     ]
    }
   ],
   "source": [
    "y = data['price'].values.reshape(-1, 1)\n",
    "x = pd.get_dummies(data, columns=['mainroad', 'guestroom', 'basement', 'hotwaterheating', 'airconditioning', 'prefarea','furnishingstatus'], drop_first=True)\n",
    "x = x.drop(columns=['price'])\n",
    "print(x[:5])\n"
   ]
  },
  {
   "cell_type": "code",
   "execution_count": 5,
   "id": "b2f7fdf2",
   "metadata": {},
   "outputs": [
    {
     "name": "stdout",
     "output_type": "stream",
     "text": [
      "Index(['area', 'bedrooms', 'bathrooms', 'stories', 'parking', 'mainroad_yes',\n",
      "       'guestroom_yes', 'basement_yes', 'hotwaterheating_yes',\n",
      "       'airconditioning_yes', 'prefarea_yes',\n",
      "       'furnishingstatus_semi-furnished', 'furnishingstatus_unfurnished'],\n",
      "      dtype='object')\n"
     ]
    }
   ],
   "source": [
    "print(x.columns)"
   ]
  },
  {
   "cell_type": "markdown",
   "id": "3532799a",
   "metadata": {},
   "source": [
    "## Correlation Analysis\n",
    "\n",
    "Before we proceed with the training, lets analyze our dataset first and see the correlation between all the features and its prices. "
   ]
  },
  {
   "cell_type": "code",
   "execution_count": 6,
   "id": "cbc9a9b7",
   "metadata": {},
   "outputs": [
    {
     "name": "stdout",
     "output_type": "stream",
     "text": [
      "price                              1.000000\n",
      "area                               0.535997\n",
      "bathrooms                          0.517545\n",
      "airconditioning_yes                0.452954\n",
      "stories                            0.420712\n",
      "parking                            0.384394\n",
      "bedrooms                           0.366494\n",
      "prefarea_yes                       0.329777\n",
      "mainroad_yes                       0.296898\n",
      "guestroom_yes                      0.255517\n",
      "basement_yes                       0.187057\n",
      "hotwaterheating_yes                0.093073\n",
      "furnishingstatus_semi-furnished    0.063656\n",
      "furnishingstatus_unfurnished      -0.280587\n",
      "Name: price, dtype: float64\n"
     ]
    }
   ],
   "source": [
    "corr = x.copy()\n",
    "corr['price'] = y\n",
    "corr_matrix = corr.corr(numeric_only=True)['price'].sort_values(ascending=False)\n",
    "\n",
    "print(corr_matrix)"
   ]
  },
  {
   "cell_type": "markdown",
   "id": "5ed7d631",
   "metadata": {},
   "source": [
    "## Mutual information analysis\n",
    "\n",
    "It captures non-linear relationships."
   ]
  },
  {
   "cell_type": "code",
   "execution_count": 7,
   "id": "57942530",
   "metadata": {},
   "outputs": [
    {
     "name": "stdout",
     "output_type": "stream",
     "text": [
      "area                               0.192511\n",
      "stories                            0.145448\n",
      "bathrooms                          0.143378\n",
      "parking                            0.130755\n",
      "bedrooms                           0.120860\n",
      "airconditioning_yes                0.116313\n",
      "mainroad_yes                       0.084738\n",
      "furnishingstatus_unfurnished       0.076870\n",
      "guestroom_yes                      0.074781\n",
      "prefarea_yes                       0.060624\n",
      "furnishingstatus_semi-furnished    0.059410\n",
      "basement_yes                       0.047335\n",
      "hotwaterheating_yes                0.017092\n",
      "dtype: float64\n"
     ]
    }
   ],
   "source": [
    "from sklearn.feature_selection import mutual_info_regression\n",
    "mi = mutual_info_regression(x, corr['price'])\n",
    "mi_scores = pd.Series(mi, index=x.columns).sort_values(ascending=False)\n",
    "print(mi_scores)"
   ]
  },
  {
   "cell_type": "code",
   "execution_count": 8,
   "id": "755df0d4",
   "metadata": {},
   "outputs": [
    {
     "name": "stdout",
     "output_type": "stream",
     "text": [
      "['area', 'bathrooms', 'airconditioning_yes', 'stories', 'parking', 'bedrooms', 'prefarea_yes', 'mainroad_yes', 'guestroom_yes', 'basement_yes']\n"
     ]
    }
   ],
   "source": [
    "corr_features = corr_matrix.index[1:11].tolist()\n",
    "print(corr_features)"
   ]
  },
  {
   "cell_type": "code",
   "execution_count": 9,
   "id": "79730477",
   "metadata": {},
   "outputs": [
    {
     "name": "stdout",
     "output_type": "stream",
     "text": [
      "\n",
      "Selected top 10 features based on MI: ['area', 'stories', 'bathrooms', 'parking', 'bedrooms', 'airconditioning_yes', 'mainroad_yes', 'furnishingstatus_unfurnished', 'guestroom_yes', 'prefarea_yes']\n"
     ]
    }
   ],
   "source": [
    "mi_features = mi_scores.index[:10].tolist()\n",
    "print(\"\\nSelected top 10 features based on MI:\", mi_features)"
   ]
  },
  {
   "cell_type": "code",
   "execution_count": 10,
   "id": "3dc5dbc3",
   "metadata": {},
   "outputs": [
    {
     "name": "stdout",
     "output_type": "stream",
     "text": [
      "   area  bathrooms  airconditioning_yes  stories  parking  bedrooms  \\\n",
      "0  7420          2                 True        3        2         4   \n",
      "1  8960          4                 True        4        3         4   \n",
      "2  9960          2                False        2        2         3   \n",
      "3  7500          2                 True        2        3         4   \n",
      "4  7420          1                 True        2        2         4   \n",
      "\n",
      "   prefarea_yes  mainroad_yes  guestroom_yes  basement_yes  \n",
      "0          True          True          False         False  \n",
      "1         False          True          False         False  \n",
      "2          True          True          False          True  \n",
      "3          True          True          False          True  \n",
      "4         False          True           True          True  \n"
     ]
    }
   ],
   "source": [
    "x_corr = x[corr_features].copy()\n",
    "x_mi = x[mi_features].copy()\n",
    "print(x_corr.head())"
   ]
  },
  {
   "cell_type": "markdown",
   "id": "9cf2b78d",
   "metadata": {},
   "source": [
    "## Standardize Continuous columns\n",
    "\n",
    "Standardization (Z-score) scales the data such that it has a mean of 0 and a standard deviation of 1. You only need to apply this to the continuous columns.\n",
    "\n",
    "The formula for standardization is:\n",
    "\n",
    "$$X_(norm)= \\frac{X-\\mu}{\\sigma} $$\n",
    "\n",
    "where $\\mu$ is the mean and the $\\sigma$ is the standard deviation for that column."
   ]
  },
  {
   "cell_type": "code",
   "execution_count": 11,
   "id": "cb1175ce",
   "metadata": {},
   "outputs": [
    {
     "name": "stdout",
     "output_type": "stream",
     "text": [
      "Mean: area    5150.541284\n",
      "dtype: float64\n",
      "Standard Deviation:\n",
      " area    2170.141023\n",
      "dtype: float64\n"
     ]
    }
   ],
   "source": [
    "continuous_cols = [\"area\"]\n",
    "\n",
    "mean = x_corr[continuous_cols].mean()\n",
    "std  = x_corr[continuous_cols].std()\n",
    "\n",
    "print(\"Mean:\", mean)\n",
    "print(\"Standard Deviation:\\n\", std)\n",
    "\n",
    "\n",
    "x_corr[continuous_cols] = (x_corr[continuous_cols] - mean) / std"
   ]
  },
  {
   "cell_type": "code",
   "execution_count": 12,
   "id": "99d471c1",
   "metadata": {},
   "outputs": [
    {
     "name": "stdout",
     "output_type": "stream",
     "text": [
      "Mean: area    5150.541284\n",
      "dtype: float64\n",
      "Standard Deviation:\n",
      " area    2170.141023\n",
      "dtype: float64\n"
     ]
    }
   ],
   "source": [
    "mean = x_mi[continuous_cols].mean()\n",
    "std  = x_mi[continuous_cols].std()\n",
    "\n",
    "print(\"Mean:\", mean)\n",
    "print(\"Standard Deviation:\\n\", std)\n",
    "\n",
    "\n",
    "x_mi[continuous_cols] = (x_mi[continuous_cols] - mean) / std"
   ]
  },
  {
   "cell_type": "markdown",
   "id": "ba5c4220",
   "metadata": {},
   "source": [
    "## Binary Columns\n",
    "\n",
    "Convert columns that uses binary classification yes/no or true/false to be 1/0. The columns that we will convert is mainroad, guestroom, basement, hotwaterheating,airconditioning, furnishingstatussemi-furnished, and furnishingstatusunfurnished"
   ]
  },
  {
   "cell_type": "code",
   "execution_count": 13,
   "id": "1cc15262",
   "metadata": {},
   "outputs": [],
   "source": [
    "for col in corr_features:\n",
    "    if col in continuous_cols:\n",
    "        continue\n",
    "    if x_corr[col].dtype == object:\n",
    "        x_corr[col] = x_corr[col].map({\"yes\": 1, \"no\": 0, \"Yes\": 1, \"No\": 0})\n",
    "    else:\n",
    "        x_corr[col] = x_corr[col].astype(int)"
   ]
  },
  {
   "cell_type": "code",
   "execution_count": 14,
   "id": "64999aec",
   "metadata": {},
   "outputs": [],
   "source": [
    "for col in mi_features:\n",
    "    if col in continuous_cols:\n",
    "        continue\n",
    "    if x_mi[col].dtype == object:\n",
    "        x_mi[col] = x_mi[col].map({\"yes\": 1, \"no\": 0, \"Yes\": 1, \"No\": 0})\n",
    "    else:\n",
    "        x_mi[col] = x_mi[col].astype(int)"
   ]
  },
  {
   "cell_type": "markdown",
   "id": "4f6e0d7b",
   "metadata": {},
   "source": [
    "## Splitting Training and Test set\n",
    "\n",
    "Using a random seed of 42, we split the dataset to 70-30 for training and test set."
   ]
  },
  {
   "cell_type": "code",
   "execution_count": 15,
   "id": "2bddc28e",
   "metadata": {},
   "outputs": [],
   "source": [
    "combined = list(zip(x_corr.values, y))\n",
    "random.seed(42)\n",
    "random.shuffle(combined)\n",
    "\n",
    "split = int(0.7 * len(combined))\n",
    "train_set, test_set = combined[:split], combined[split:]\n",
    "\n",
    "train_texts, train_labels = zip(*train_set)\n",
    "test_texts, test_labels = zip(*test_set)\n",
    "\n",
    "x_train_corr = np.array(train_texts)\n",
    "x_test_corr = np.array(test_texts)\n",
    "y_train_corr = np.array(train_labels)\n",
    "y_test_corr = np.array(test_labels)"
   ]
  },
  {
   "cell_type": "code",
   "execution_count": 16,
   "id": "cba71959",
   "metadata": {},
   "outputs": [],
   "source": [
    "combined = list(zip(x_mi.values, y))\n",
    "random.seed(42)\n",
    "random.shuffle(combined)\n",
    "\n",
    "split = int(0.7 * len(combined))\n",
    "train_set, test_set = combined[:split], combined[split:]\n",
    "\n",
    "train_texts, train_labels = zip(*train_set)\n",
    "test_texts, test_labels = zip(*test_set)\n",
    "\n",
    "x_train_mi = np.array(train_texts)\n",
    "x_test_mi = np.array(test_texts)\n",
    "y_train_mi = np.array(train_labels)\n",
    "y_test_mi = np.array(test_labels)"
   ]
  },
  {
   "cell_type": "code",
   "execution_count": 17,
   "id": "69e2820d",
   "metadata": {},
   "outputs": [
    {
     "name": "stdout",
     "output_type": "stream",
     "text": [
      "Correlation:         area  bathrooms  airconditioning_yes  stories  parking  bedrooms  \\\n",
      "0  1.045766          2                    1        3        2         4   \n",
      "1  1.755397          4                    1        4        3         4   \n",
      "\n",
      "   prefarea_yes  mainroad_yes  guestroom_yes  basement_yes  \n",
      "0             1             1              0             0  \n",
      "1             0             1              0             0  \n",
      "Mutual Information:         area  stories  bathrooms  parking  bedrooms  airconditioning_yes  \\\n",
      "0  1.045766        3          2        2         4                    1   \n",
      "1  1.755397        4          4        3         4                    1   \n",
      "\n",
      "   mainroad_yes  furnishingstatus_unfurnished  guestroom_yes  prefarea_yes  \n",
      "0             1                             0              0             1  \n",
      "1             1                             0              0             0  \n"
     ]
    }
   ],
   "source": [
    "print(\"Correlation: \",x_corr[0:2])\n",
    "print(\"Mutual Information: \",x_mi[0:2])"
   ]
  },
  {
   "cell_type": "code",
   "execution_count": 18,
   "id": "49b66958",
   "metadata": {},
   "outputs": [
    {
     "name": "stdout",
     "output_type": "stream",
     "text": [
      "[[6090000]\n",
      " [6300000]]\n"
     ]
    }
   ],
   "source": [
    "print(y_train_mi[0:2])"
   ]
  },
  {
   "cell_type": "markdown",
   "id": "b27e3a3c",
   "metadata": {},
   "source": [
    "# Training the dataset\n",
    "\n",
    "Using gradient descent we will try to do linear regression model"
   ]
  },
  {
   "cell_type": "code",
   "execution_count": 19,
   "id": "57977ba3",
   "metadata": {},
   "outputs": [],
   "source": [
    "X_train_corr = np.c_[np.ones((x_train_corr.shape[0], 1)), x_train_corr]\n",
    "theta_corr = np.zeros((X_train_corr.shape[1], 1))\n",
    "Y_train_corr = y_train_corr.reshape(-1, 1)\n",
    "m = len(Y_train_corr)"
   ]
  },
  {
   "cell_type": "code",
   "execution_count": 20,
   "id": "e89fb190",
   "metadata": {},
   "outputs": [],
   "source": [
    "X_train_mi = np.c_[np.ones((x_train_mi.shape[0], 1)), x_train_mi]\n",
    "theta_mi = np.zeros((X_train_mi.shape[1], 1))\n",
    "Y_train_mi = y_train_mi.reshape(-1, 1)\n",
    "m = len(Y_train_mi)"
   ]
  },
  {
   "cell_type": "code",
   "execution_count": 21,
   "id": "076a6af8",
   "metadata": {},
   "outputs": [],
   "source": [
    "def compute_cost(X, Y, theta):\n",
    "    max_epochs = 10000\n",
    "    tolerance = 1e-6\n",
    "    learning_rate = 1e-3\n",
    "    prev_cost = float('inf')\n",
    "\n",
    "    for epoch in range(max_epochs):\n",
    "        r = X.dot(theta) - Y\n",
    "        gradients = (1/m) * X.T.dot(r)\n",
    "        theta -= learning_rate * gradients\n",
    "\n",
    "        cost = (1/(2*m)) * np.sum(r**2)\n",
    "        if epoch % 1000 == 0:\n",
    "            print(f\"Epoch {epoch}, Cost: {cost}\")\n",
    "\n",
    "        if abs(prev_cost - cost) < tolerance:\n",
    "            print(f\"Converged at epoch {epoch}\")\n",
    "            break\n",
    "        prev_cost = cost\n",
    "    return theta\n"
   ]
  },
  {
   "cell_type": "code",
   "execution_count": 22,
   "id": "f3a92d20",
   "metadata": {},
   "outputs": [
    {
     "name": "stdout",
     "output_type": "stream",
     "text": [
      "Epoch 0, Cost: 13029900336870.078\n",
      "Epoch 1000, Cost: 782513412536.0226\n",
      "Epoch 2000, Cost: 722048393975.7604\n",
      "Epoch 3000, Cost: 696500497766.5892\n",
      "Epoch 4000, Cost: 680657587752.4656\n",
      "Epoch 5000, Cost: 670031202467.2819\n",
      "Epoch 6000, Cost: 662763435172.9507\n",
      "Epoch 7000, Cost: 657737437387.6808\n",
      "Epoch 8000, Cost: 654226038657.333\n",
      "Epoch 9000, Cost: 651746353219.531\n",
      "[434828.0466093296, 546970.1604385523, 966497.75416319, 708597.1672226733, 496061.69101378514, 372745.68675770896, 329513.7110194238, 544682.0819031895, 490123.7830868627, 244471.92680696442, 342762.5854838868]\n"
     ]
    }
   ],
   "source": [
    "theta_corr = compute_cost(X_train_corr, Y_train_corr, theta_corr)\n",
    "print(theta_corr.flatten().tolist())"
   ]
  },
  {
   "cell_type": "code",
   "execution_count": 23,
   "id": "4d5ea6fa",
   "metadata": {},
   "outputs": [
    {
     "name": "stdout",
     "output_type": "stream",
     "text": [
      "Epoch 0, Cost: 13029900336870.078\n",
      "Epoch 1000, Cost: 790614898847.5983\n",
      "Epoch 2000, Cost: 727163163512.5314\n",
      "Epoch 3000, Cost: 699611099452.2156\n",
      "Epoch 4000, Cost: 682111789859.6746\n",
      "Epoch 5000, Cost: 670152151404.4971\n",
      "Epoch 6000, Cost: 661834260973.9813\n",
      "Epoch 7000, Cost: 655988422000.2283\n",
      "Epoch 8000, Cost: 651835852539.8691\n",
      "Epoch 9000, Cost: 648849360582.5249\n",
      "[505591.08571121487, 521063.8524698028, 435585.980730563, 981771.803559394, 363673.8488485278, 393390.8896789661, 713072.2149739707, 524311.1961296787, -307902.2772484649, 326429.1723219383, 571505.6795061926]\n"
     ]
    }
   ],
   "source": [
    "theta_mi = compute_cost(X_train_mi, Y_train_mi, theta_mi)\n",
    "print(theta_mi.flatten().tolist())"
   ]
  },
  {
   "cell_type": "code",
   "execution_count": 24,
   "id": "b090d8d1",
   "metadata": {},
   "outputs": [],
   "source": [
    "def test_model(X, Y, theta):\n",
    "    Y_pred = X.dot(theta)\n",
    "\n",
    "    # Metrics\n",
    "    mse = np.mean((Y_pred - Y) ** 2)\n",
    "    rmse = np.sqrt(mse)\n",
    "    mae = np.mean(np.abs(Y_pred - Y))\n",
    "    \n",
    "    ss_total = np.sum((Y - np.mean(Y)) ** 2)\n",
    "    ss_res = np.sum((Y - Y_pred) ** 2)\n",
    "    r2 = 1 - (ss_res / ss_total)\n",
    "\n",
    "    return {\n",
    "        \"MSE\": mse,\n",
    "        \"RMSE\": rmse,\n",
    "        \"MAE\": mae,\n",
    "        \"R2\": r2,\n",
    "        \"Predictions\": Y_pred\n",
    "    }"
   ]
  },
  {
   "cell_type": "code",
   "execution_count": 25,
   "id": "f73c28f4",
   "metadata": {},
   "outputs": [],
   "source": [
    "X_test_corr = np.c_[np.ones((x_test_corr.shape[0], 1)), x_test_corr]\n",
    "Y_test_corr = y_test_corr.reshape(-1, 1)"
   ]
  },
  {
   "cell_type": "code",
   "execution_count": 26,
   "id": "78f732af",
   "metadata": {},
   "outputs": [
    {
     "name": "stdout",
     "output_type": "stream",
     "text": [
      "Test MSE: 978369996902.5303\n",
      "Test RMSE: 989125.8751557005\n",
      "Test MAE: 744053.7706848294\n",
      "Test R²: 0.6805306900222285\n"
     ]
    }
   ],
   "source": [
    "results_corr = test_model(X_test_corr, Y_test_corr, theta_corr)\n",
    "print(f\"Test MSE: {results_corr['MSE']}\")\n",
    "print(f\"Test RMSE: {results_corr['RMSE']}\")\n",
    "print(f\"Test MAE: {results_corr['MAE']}\")\n",
    "print(f\"Test R²: {results_corr['R2']}\")"
   ]
  },
  {
   "cell_type": "code",
   "execution_count": 27,
   "id": "d7691195",
   "metadata": {},
   "outputs": [],
   "source": [
    "X_test_mi = np.c_[np.ones((x_test_mi.shape[0], 1)), x_test_mi]\n",
    "Y_test_mi = y_test_mi.reshape(-1, 1)"
   ]
  },
  {
   "cell_type": "code",
   "execution_count": 28,
   "id": "01eccf20",
   "metadata": {},
   "outputs": [
    {
     "name": "stdout",
     "output_type": "stream",
     "text": [
      "Test MSE: 1007822282174.4344\n",
      "Test RMSE: 1003903.5223438727\n",
      "Test MAE: 769138.4134908658\n",
      "Test R²: 0.6709135704428542\n"
     ]
    }
   ],
   "source": [
    "results_mi = test_model(X_test_mi, Y_test_mi, theta_mi)\n",
    "print(f\"Test MSE: {results_mi['MSE']}\")\n",
    "print(f\"Test RMSE: {results_mi['RMSE']}\")\n",
    "print(f\"Test MAE: {results_mi['MAE']}\")\n",
    "print(f\"Test R²: {results_mi['R2']}\")"
   ]
  },
  {
   "cell_type": "code",
   "execution_count": 29,
   "id": "cb2a4fd2",
   "metadata": {},
   "outputs": [
    {
     "data": {
      "image/png": "[encoded data removed]",
      "text/plain": [
       "<Figure size 640x480 with 1 Axes>"
      ]
     },
     "metadata": {},
     "output_type": "display_data"
    }
   ],
   "source": [
    "import matplotlib.pyplot as plt\n",
    "\n",
    "plt.scatter(Y_test_mi, results_mi['Predictions'], alpha=0.7)\n",
    "plt.xlabel(\"Actual Y\")\n",
    "plt.ylabel(\"Predicted Y\")\n",
    "plt.title(\"Actual vs Predicted (Test Set) using Corr features\")\n",
    "plt.show()"
   ]
  },
  {
   "cell_type": "code",
   "execution_count": 30,
   "id": "08e61310",
   "metadata": {},
   "outputs": [
    {
     "data": {
      "image/png": "[encoded data removed]",
      "text/plain": [
       "<Figure size 640x480 with 1 Axes>"
      ]
     },
     "metadata": {},
     "output_type": "display_data"
    }
   ],
   "source": [
    "import matplotlib.pyplot as plt\n",
    "\n",
    "plt.scatter(Y_test_mi, results_mi['Predictions'], alpha=0.7)\n",
    "plt.xlabel(\"Actual Y\")\n",
    "plt.ylabel(\"Predicted Y\")\n",
    "plt.title(\"Actual vs Predicted (Test Set) using MI features\")\n",
    "plt.show()"
   ]
  },
  {
   "cell_type": "code",
   "execution_count": null,
   "id": "4ec24b9f",
   "metadata": {},
   "outputs": [],
   "source": []
  }
 ],
 "metadata": {
  "kernelspec": {
   "display_name": "Python 3 (ipykernel)",
   "language": "python",
   "name": "python3"
  },
  "language_info": {
   "codemirror_mode": {
    "name": "ipython",
    "version": 3
   },
   "file_extension": ".py",
   "mimetype": "text/x-python",
   "name": "python",
   "nbconvert_exporter": "python",
   "pygments_lexer": "ipython3",
   "version": "3.11.7"
  }
 },
 "nbformat": 4,
 "nbformat_minor": 5
}
